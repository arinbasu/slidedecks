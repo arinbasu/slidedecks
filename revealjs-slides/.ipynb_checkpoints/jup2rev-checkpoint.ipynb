{
 "cells": [
  {
   "cell_type": "markdown",
   "metadata": {},
   "source": [
    "# Jupyter to reveal through markdown\n",
    "\n",
    "## What we will do:\n",
    "- Earlier we saw we can convert Jupyter notebooks to revealjs\n",
    "- We used Pandoc to convert the markdown\n",
    "- This time we will directly input the markdown\n",
    "- Host it on github\n",
    "\n",
    "## What we will specifically do:\n",
    "> - Write the content in jupyter\n",
    "> - Use jupyter nbconvert to convert it to markdown\n",
    "> - Use a barebones template for reveal\n",
    "> - Externally source the markdown and all resources\n",
    "> - Serve over github\n",
    "\n",
    "# Create the boilerplate first"
   ]
  },
  {
   "cell_type": "code",
   "execution_count": 2,
   "metadata": {},
   "outputs": [
    {
     "name": "stdout",
     "output_type": "stream",
     "text": [
      "Writing extmd.html\n"
     ]
    }
   ],
   "source": [
    "%%writefile extmd.html\n",
    "\n",
    "<html>\n",
    "\t<head>\n",
    "\t\t<link rel=\"stylesheet\" href=\"reveal.js-master/css/reveal.css\">\n",
    "\t\t<link rel=\"stylesheet\" href=\"reveal.js-master/css/theme/white.css\">\n",
    "\t</head>\n",
    "\t<body>\n",
    "\t\t<div class=\"reveal\">\n",
    "\t\t\t<div class=\"slides\">\n",
    "\t\t\t\t<section data-markdown=\"filename.md\"\n",
    "                data-separator=\"^\\r?\\n---\\r?\\n$\"\n",
    "                data-separator-vertical=\"^\\r?\\n--\\r?\\n$\"\n",
    "                >\n",
    "                \n",
    "                </section>\n",
    "\t\t\t\t\n",
    "\t\t\t</div>\n",
    "\t\t</div>\n",
    "\t\t<script src=\"reveal-js.master/js/reveal.js\"></script>\n",
    "\t\t<script>\n",
    "\t\t\tReveal.initialize();\n",
    "\t\t</script>\n",
    "\t</body>\n",
    "</html>"
   ]
  },
  {
   "cell_type": "code",
   "execution_count": null,
   "metadata": {},
   "outputs": [],
   "source": []
  }
 ],
 "metadata": {
  "kernelspec": {
   "display_name": "Python 3",
   "language": "python",
   "name": "python3"
  },
  "language_info": {
   "codemirror_mode": {
    "name": "ipython",
    "version": 3
   },
   "file_extension": ".py",
   "mimetype": "text/x-python",
   "name": "python",
   "nbconvert_exporter": "python",
   "pygments_lexer": "ipython3",
   "version": "3.7.3"
  }
 },
 "nbformat": 4,
 "nbformat_minor": 4
}
